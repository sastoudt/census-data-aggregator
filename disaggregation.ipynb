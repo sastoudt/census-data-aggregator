{
 "cells": [
  {
   "cell_type": "markdown",
   "metadata": {},
   "source": [
    "Scratch"
   ]
  },
  {
   "cell_type": "code",
   "execution_count": 1,
   "metadata": {},
   "outputs": [],
   "source": [
    "test = [\n",
    "            dict( n=6, val= 5, moe=1, newBlockP1=0.8, newBlockP2=0.2),\n",
    "            dict( n=10, val= 15, moe=2, newBlockP1=0.3, newBlockP2=0.7)\n",
    "        ]\n",
    "\n",
    "\n"
   ]
  },
  {
   "cell_type": "code",
   "execution_count": 2,
   "metadata": {},
   "outputs": [
    {
     "data": {
      "text/html": [
       "<div>\n",
       "<style scoped>\n",
       "    .dataframe tbody tr th:only-of-type {\n",
       "        vertical-align: middle;\n",
       "    }\n",
       "\n",
       "    .dataframe tbody tr th {\n",
       "        vertical-align: top;\n",
       "    }\n",
       "\n",
       "    .dataframe thead th {\n",
       "        text-align: right;\n",
       "    }\n",
       "</style>\n",
       "<table border=\"1\" class=\"dataframe\">\n",
       "  <thead>\n",
       "    <tr style=\"text-align: right;\">\n",
       "      <th></th>\n",
       "      <th>moe</th>\n",
       "      <th>n</th>\n",
       "      <th>newBlockP1</th>\n",
       "      <th>newBlockP2</th>\n",
       "      <th>val</th>\n",
       "    </tr>\n",
       "  </thead>\n",
       "  <tbody>\n",
       "    <tr>\n",
       "      <th>0</th>\n",
       "      <td>1</td>\n",
       "      <td>6</td>\n",
       "      <td>0.8</td>\n",
       "      <td>0.2</td>\n",
       "      <td>5</td>\n",
       "    </tr>\n",
       "    <tr>\n",
       "      <th>1</th>\n",
       "      <td>2</td>\n",
       "      <td>10</td>\n",
       "      <td>0.3</td>\n",
       "      <td>0.7</td>\n",
       "      <td>15</td>\n",
       "    </tr>\n",
       "  </tbody>\n",
       "</table>\n",
       "</div>"
      ],
      "text/plain": [
       "   moe   n  newBlockP1  newBlockP2  val\n",
       "0    1   6         0.8         0.2    5\n",
       "1    2  10         0.3         0.7   15"
      ]
     },
     "execution_count": 2,
     "metadata": {},
     "output_type": "execute_result"
    }
   ],
   "source": [
    "## number of people\n",
    "import pandas\n",
    "\n",
    "df= pandas.DataFrame(test)\n",
    "df"
   ]
  },
  {
   "cell_type": "code",
   "execution_count": 16,
   "metadata": {},
   "outputs": [
    {
     "data": {
      "text/html": [
       "<div>\n",
       "<style scoped>\n",
       "    .dataframe tbody tr th:only-of-type {\n",
       "        vertical-align: middle;\n",
       "    }\n",
       "\n",
       "    .dataframe tbody tr th {\n",
       "        vertical-align: top;\n",
       "    }\n",
       "\n",
       "    .dataframe thead th {\n",
       "        text-align: right;\n",
       "    }\n",
       "</style>\n",
       "<table border=\"1\" class=\"dataframe\">\n",
       "  <thead>\n",
       "    <tr style=\"text-align: right;\">\n",
       "      <th></th>\n",
       "      <th>newBlockP1</th>\n",
       "      <th>newBlockP2</th>\n",
       "    </tr>\n",
       "  </thead>\n",
       "  <tbody>\n",
       "    <tr>\n",
       "      <th>0</th>\n",
       "      <td>0.8</td>\n",
       "      <td>0.2</td>\n",
       "    </tr>\n",
       "    <tr>\n",
       "      <th>1</th>\n",
       "      <td>0.3</td>\n",
       "      <td>0.7</td>\n",
       "    </tr>\n",
       "  </tbody>\n",
       "</table>\n",
       "</div>"
      ],
      "text/plain": [
       "   newBlockP1  newBlockP2\n",
       "0         0.8         0.2\n",
       "1         0.3         0.7"
      ]
     },
     "execution_count": 16,
     "metadata": {},
     "output_type": "execute_result"
    }
   ],
   "source": [
    "## number of people\n",
    "\n",
    "## deterministic\n",
    "\n",
    "df[['newBlockP1','newBlockP2']]"
   ]
  },
  {
   "cell_type": "code",
   "execution_count": 3,
   "metadata": {},
   "outputs": [
    {
     "data": {
      "text/plain": [
       "['moe', 'n', 'newBlockP1', 'newBlockP2', 'val']"
      ]
     },
     "execution_count": 3,
     "metadata": {},
     "output_type": "execute_result"
    }
   ],
   "source": [
    "nam=list(df.columns.values)\n",
    "nam"
   ]
  },
  {
   "cell_type": "code",
   "execution_count": 4,
   "metadata": {},
   "outputs": [
    {
     "data": {
      "text/plain": [
       "['newBlockP1', 'newBlockP2']"
      ]
     },
     "execution_count": 4,
     "metadata": {},
     "output_type": "execute_result"
    }
   ],
   "source": [
    "nam.remove(\"moe\")\n",
    "nam.remove('n')\n",
    "nam.remove('val')\n",
    "nam"
   ]
  },
  {
   "cell_type": "code",
   "execution_count": 89,
   "metadata": {},
   "outputs": [
    {
     "name": "stdout",
     "output_type": "stream",
     "text": [
      "   newBlockP1  newBlockP2\n",
      "0         4.8         1.2\n",
      "   newBlockP1  newBlockP2\n",
      "1         3.0         7.0\n"
     ]
    }
   ],
   "source": [
    "\n",
    "for i in range(df.shape[0]):\n",
    "    print(df['n'][i]*df[i:(i+1)][nam])\n",
    "   # how do I store these, then want to sum over columns "
   ]
  },
  {
   "cell_type": "code",
   "execution_count": 9,
   "metadata": {},
   "outputs": [
    {
     "name": "stdout",
     "output_type": "stream",
     "text": [
      "   newBlockP1  newBlockP2\n",
      "0         2.4         0.6\n",
      "   newBlockP1  newBlockP2\n",
      "1         4.5        10.5\n"
     ]
    }
   ],
   "source": [
    "## with moe\n",
    "import numpy\n",
    "for i in range(df.shape[0]):\n",
    "    se = df['n'][i] / 1.645 ## convert moe to se\n",
    "    new_n = round(numpy.random.normal(df['n'][i], se))\n",
    "    ## use moe to introduce randomness into number in bin\n",
    "    new_n = int(new_n) ## clean it up\n",
    "    print(new_n*df[i:(i+1)][nam])\n",
    "\n",
    "   # how do I store these, then want to sum over columns "
   ]
  },
  {
   "cell_type": "code",
   "execution_count": 7,
   "metadata": {},
   "outputs": [
    {
     "name": "stdout",
     "output_type": "stream",
     "text": [
      "8.846153846153845\n",
      "13.536585365853659\n"
     ]
    }
   ],
   "source": [
    "## mean\n",
    "## go through by columns\n",
    "## deterministic\n",
    "\n",
    "for i in nam:\n",
    "    print(sum(df['n']*df[i]*df['val'])/sum(df['n']*df[i]))"
   ]
  },
  {
   "cell_type": "code",
   "execution_count": 13,
   "metadata": {},
   "outputs": [
    {
     "name": "stdout",
     "output_type": "stream",
     "text": [
      "7.7272727272727275\n",
      "12.777777777777779\n"
     ]
    }
   ],
   "source": [
    "## mean\n",
    "## go through by columns\n",
    "## random\n",
    "\n",
    "sim_n = []\n",
    "for i in range(df.shape[0]):\n",
    "    se = df['n'][i] / 1.645 ## convert moe to se\n",
    "    new_n = round(numpy.random.normal(df['n'][i], se))\n",
    "    ## use moe to introduce randomness into number in bin\n",
    "    new_n = int(new_n) ## clean it up\n",
    "    sim_n.append(new_n)\n",
    "\n",
    "for i in nam:\n",
    "    print(sum(new_n*df[i]*df['val'])/sum(new_n*df[i]))"
   ]
  },
  {
   "cell_type": "code",
   "execution_count": null,
   "metadata": {},
   "outputs": [],
   "source": [
    "## median\n",
    "## deterministic\n",
    "\n"
   ]
  },
  {
   "cell_type": "code",
   "execution_count": 153,
   "metadata": {},
   "outputs": [],
   "source": [
    "import math\n",
    "household_income_2013_acs5 = [\n",
    "            dict(min=math.nan, max=9999, n=6, moe=1),\n",
    "            dict(min=10000, max=14999, n=1, moe=1),\n",
    "            dict(min=15000, max=19999, n=8, moe=1),\n",
    "            dict(min=20000, max=24999, n=7, moe=1),\n",
    "            dict(min=25000, max=29999, n=2, moe=1),\n",
    "            dict(min=30000, max=34999, n=900, moe=8),\n",
    "            dict(min=35000, max=39999, n=7, moe=1),\n",
    "            dict(min=40000, max=44999, n=4, moe=1),\n",
    "            dict(min=45000, max=49999, n=8, moe=1),\n",
    "            dict(min=50000, max=59999, n=6, moe=1),\n",
    "            dict(min=60000, max=74999, n=7, moe=1),\n",
    "            dict(min=75000, max=99999, n=2, moe=0.25),\n",
    "            dict(min=100000, max=124999, n=7, moe=1),\n",
    "            dict(min=125000, max=149999, n=10, moe=1),\n",
    "            dict(min=150000, max=199999, n=8, moe=1),\n",
    "            dict(min=200000, max=math.nan, n=18, moe=10)\n",
    "        ]\n",
    "\n",
    "household_income_la_2013_acs1 = [\n",
    "      dict(min=0, max=9999, n=1382, moe = 50),\n",
    "      dict(min=10000, max=14999, n=2377, moe = 50),\n",
    "      dict(min=15000, max=19999, n=1332, moe = 50),\n",
    "      dict(min=20000, max=24999, n=3129, moe = 50),\n",
    "      dict(min=25000, max=29999, n=1927, moe = 50),\n",
    "      dict(min=30000, max=34999, n=1825, moe = 50),\n",
    "      dict(min=35000, max=39999, n=1567, moe = 50),\n",
    "      dict(min=40000, max=44999, n=1996, moe = 50),\n",
    "      dict(min=45000, max=49999, n=1757, moe = 50),\n",
    "      dict(min=50000, max=59999, n=3523, moe = 50),\n",
    "      dict(min=60000, max=74999, n=4360, moe = 50),\n",
    "      dict(min=75000, max=99999, n=6424, moe = 50),\n",
    "      dict(min=100000, max=124999, n=5257, moe = 50),\n",
    "      dict(min=125000, max=149999, n=3485, moe = 50),\n",
    "      dict(min=150000, max=199999, n=2926, moe = 50),\n",
    "      dict(min=200000, max=500000, n=4215, moe = 50)\n",
    "  ]\n",
    "\n",
    "\n",
    "test_input = [household_income_2013_acs5,household_income_la_2013_acs1]\n",
    "\n",
    "makeup_1 = [0.8, 0.2]\n",
    "makeup_2 =  [0.3, 0.7]\n",
    "\n",
    "makeup_input = [makeup_1, makeup_2]\n"
   ]
  },
  {
   "cell_type": "code",
   "execution_count": 154,
   "metadata": {},
   "outputs": [],
   "source": [
    "def disaggregate_sum(data_list, makeup, deterministic = True, simulations=50):\n",
    "## replace some of this with dot products?\n",
    "    if deterministic:\n",
    "        results = []\n",
    "        grand_total = []\n",
    "        for i in range(len(data_list)):\n",
    "            total = []\n",
    "            for j in range(0, len(data_list[i])):\n",
    "                total.append(data_list[i][j]['n'])\n",
    "            grand_total.append(sum(total))\n",
    "            results.append([grand_total[i]*z for z in makeup[i]]) ## store this row\n",
    "        rr = numpy.vstack(results)\n",
    "        est = numpy.apply_along_axis(sum, 0, rr) \n",
    "        return est, None\n",
    "    else:\n",
    "        simulation_results = []\n",
    "        for s in range(simulations):\n",
    "            results = []\n",
    "            grand_total = []\n",
    "            for i in range(len(data_list)):\n",
    "                total = []\n",
    "                for j in range(len(data_list[i])):\n",
    "                    se = data_list[i][j]['moe'] / 1.645 ## convert moe to se\n",
    "                    new_n = round(numpy.random.normal(data_list[i][j]['n'], se))\n",
    "                    ## use moe to introduce randomness into number in bin\n",
    "                    new_n = int(new_n) ## clean it up\n",
    "                    total.append(new_n)\n",
    "                grand_total.append(sum(total))\n",
    "                results.append([grand_total[i]*z for z in makeup[i]]) ## store this row\n",
    "            rr = numpy.vstack(results)\n",
    "            simulation_results.append(numpy.apply_along_axis(sum, 0, rr)) \n",
    "        ss = numpy.vstack(simulation_results)\n",
    "        est = numpy.apply_along_axis(numpy.mean, 0, ss)\n",
    "        t1 = numpy.apply_along_axis(numpy.quantile, axis=0, arr =ss, q=0.95) - est\n",
    "        t2 = est - numpy.apply_along_axis(numpy.quantile, axis=0, arr = ss, q=0.05)\n",
    "        margin_of_error = numpy.amax(numpy.column_stack((t1,t2)), 1)\n",
    "        return est, margin_of_error"
   ]
  },
  {
   "cell_type": "code",
   "execution_count": 151,
   "metadata": {},
   "outputs": [
    {
     "data": {
      "text/plain": [
       "(array([15045.4, 33437.6]), None)"
      ]
     },
     "execution_count": 151,
     "metadata": {},
     "output_type": "execute_result"
    }
   ],
   "source": [
    "disaggregate_sum(test_input, makeup_input, deterministic = True, simulations=50)"
   ]
  },
  {
   "cell_type": "code",
   "execution_count": 156,
   "metadata": {},
   "outputs": [
    {
     "data": {
      "text/plain": [
       "array([15045.4, 33437.6])"
      ]
     },
     "execution_count": 156,
     "metadata": {},
     "output_type": "execute_result"
    }
   ],
   "source": [
    "test = disaggregate_sum(test_input, makeup_input, deterministic = True, simulations=50)\n",
    "test[0]"
   ]
  },
  {
   "cell_type": "code",
   "execution_count": 155,
   "metadata": {},
   "outputs": [
    {
     "data": {
      "text/plain": [
       "(array([15045.006, 33430.114]), array([ 70.876, 167.684]))"
      ]
     },
     "execution_count": 155,
     "metadata": {},
     "output_type": "execute_result"
    }
   ],
   "source": [
    "disaggregate_sum(test_input, makeup_input, deterministic = False, simulations=50)"
   ]
  },
  {
   "cell_type": "code",
   "execution_count": 190,
   "metadata": {},
   "outputs": [],
   "source": [
    "def disaggregate_mean(data_list, makeup, deterministic = True, simulations=50):\n",
    "    # can we call disaggregate_sum in here\n",
    "    if deterministic:\n",
    "        denom = disaggregate_sum(data_list, makeup, deterministic = True, simulations=50)[0]\n",
    "        results = []\n",
    "        grand_total = []\n",
    "        for i in range(len(data_list)):\n",
    "            total = []\n",
    "            for j in range(0, len(data_list[i])):\n",
    "                total.append(data_list[i][j]['n'] * data_list[i][j]['val'])\n",
    "            grand_total.append(sum(total))\n",
    "            results.append([grand_total[i]*z for z in makeup[i]]) ## store this row\n",
    "        rr = numpy.vstack(results)\n",
    "        rr2 = numpy.apply_along_axis(sum, 0, rr) \n",
    "        est = numpy.divide(rr2, denom)\n",
    "        return est, None\n",
    "    else:\n",
    "        ## have to redo simulation can't just use sum call\n",
    "        simulation_results = []\n",
    "        simulation_results_v = []\n",
    "        for s in range(simulations):\n",
    "            results = []\n",
    "            results_v = []\n",
    "            grand_total = []\n",
    "            grand_total_v = []\n",
    "            for i in range(len(data_list)):\n",
    "                total = []\n",
    "                total_v = []\n",
    "                for j in range(len(data_list[i])):\n",
    "                    se = data_list[i][j]['moe'] / 1.645 ## convert moe to se\n",
    "                    new_n = round(numpy.random.normal(data_list[i][j]['n'], se))\n",
    "                    ## use moe to introduce randomness into number in bin\n",
    "                    new_n = int(new_n) ## clean it up\n",
    "                    total.append(new_n)\n",
    "                    total_v.append(new_n * data_list[i][j]['val'])\n",
    "                grand_total.append(sum(total))\n",
    "                grand_total_v.append(sum(total_v))\n",
    "                results.append([grand_total[i]*z for z in makeup[i]]) \n",
    "                results_v.append([grand_total_v[i]*z for z in makeup[i]])\n",
    "            rr = numpy.vstack(results)\n",
    "            rr_v = numpy.vstack(results_v)\n",
    "            simulation_results.append(numpy.apply_along_axis(sum, 0, rr)) \n",
    "            simulation_results_v.append(numpy.apply_along_axis(sum, 0, rr_v))\n",
    "        ss = numpy.vstack(simulation_results)\n",
    "        ss_v = numpy.vstack(simulation_results_v)\n",
    "        ## divide then do this\n",
    "        ssd = numpy.divide(ss_v, ss)\n",
    "        est = numpy.apply_along_axis(numpy.mean, 0, ssd)\n",
    "        t1 = numpy.apply_along_axis(numpy.quantile, axis=0, arr =ssd, q=0.95) - est\n",
    "        t2 = est - numpy.apply_along_axis(numpy.quantile, axis=0, arr = ssd, q=0.05)\n",
    "        margin_of_error = numpy.amax(numpy.column_stack((t1,t2)), 1)\n",
    "        return est, margin_of_error\n"
   ]
  },
  {
   "cell_type": "code",
   "execution_count": 165,
   "metadata": {},
   "outputs": [],
   "source": [
    "household_income_2013_acs5 = [\n",
    "            dict(min=math.nan, val=9999, n=6, moe=1),\n",
    "            dict(min=10000, val=14999, n=1, moe=1),\n",
    "            dict(min=15000, val=19999, n=8, moe=1),\n",
    "            dict(min=20000, val=24999, n=7, moe=1),\n",
    "            dict(min=25000, val=29999, n=2, moe=1),\n",
    "            dict(min=30000, val=34999, n=900, moe=8),\n",
    "            dict(min=35000, val=39999, n=7, moe=1),\n",
    "            dict(min=40000, val=44999, n=4, moe=1),\n",
    "            dict(min=45000, val=49999, n=8, moe=1),\n",
    "            dict(min=50000, val=59999, n=6, moe=1),\n",
    "            dict(min=60000, val=74999, n=7, moe=1),\n",
    "            dict(min=75000, val=99999, n=2, moe=0.25),\n",
    "            dict(min=100000, val=124999, n=7, moe=1),\n",
    "            dict(min=125000, val=149999, n=10, moe=1),\n",
    "            dict(min=150000, val=199999, n=8, moe=1),\n",
    "            dict(min=200000, val=250000, n=18, moe=10)\n",
    "        ]\n",
    "\n",
    "household_income_la_2013_acs1 = [\n",
    "      dict(min=0, val=9979, n=1382, moe = 50),\n",
    "      dict(min=10000, val=14799, n=2377, moe = 50),\n",
    "      dict(min=15000, val=13999, n=1332, moe = 50),\n",
    "      dict(min=20000, val=24899, n=3129, moe = 50),\n",
    "      dict(min=25000, val=29999, n=1927, moe = 50),\n",
    "      dict(min=30000, val=34499, n=1825, moe = 50),\n",
    "      dict(min=35000, val=31999, n=1567, moe = 50),\n",
    "      dict(min=40000, val=44799, n=1996, moe = 50),\n",
    "      dict(min=45000, val=49929, n=1757, moe = 50),\n",
    "      dict(min=50000, val=54999, n=3523, moe = 50),\n",
    "      dict(min=60000, val=76999, n=4360, moe = 50),\n",
    "      dict(min=75000, val=99939, n=6424, moe = 50),\n",
    "      dict(min=100000, val=124499, n=5257, moe = 50),\n",
    "      dict(min=125000, val=159999, n=3485, moe = 50),\n",
    "      dict(min=150000, val=199099, n=2926, moe = 50),\n",
    "      dict(min=200000, val=500000, n=4215, moe = 50)\n",
    "  ]\n",
    "\n",
    "\n",
    "test_input = [household_income_2013_acs5,household_income_la_2013_acs1]\n",
    "\n",
    "makeup_1 = [0.8, 0.2]\n",
    "makeup_2 =  [0.3, 0.7]\n",
    "\n",
    "makeup_input = [makeup_1, makeup_2]"
   ]
  },
  {
   "cell_type": "code",
   "execution_count": 173,
   "metadata": {},
   "outputs": [
    {
     "name": "stdout",
     "output_type": "stream",
     "text": [
      "[[3.39112136e+07 8.47780340e+06]\n",
      " [1.67016473e+09 3.89705103e+09]]\n",
      "[1.70407594e+09 3.90552884e+09]\n"
     ]
    },
    {
     "data": {
      "text/plain": [
       "(array([113262.2557393 , 116800.51311996]), None)"
      ]
     },
     "execution_count": 173,
     "metadata": {},
     "output_type": "execute_result"
    }
   ],
   "source": [
    "disaggregate_mean(test_input, makeup, deterministic = True, simulations=50)"
   ]
  },
  {
   "cell_type": "code",
   "execution_count": 191,
   "metadata": {},
   "outputs": [
    {
     "data": {
      "text/plain": [
       "(array([113359.01330856, 116892.87077947]),\n",
       " array([387.09380448, 421.82288878]))"
      ]
     },
     "execution_count": 191,
     "metadata": {},
     "output_type": "execute_result"
    }
   ],
   "source": [
    "disaggregate_mean(test_input, makeup, deterministic = False, simulations=10)"
   ]
  },
  {
   "cell_type": "code",
   "execution_count": null,
   "metadata": {},
   "outputs": [],
   "source": []
  }
 ],
 "metadata": {
  "kernelspec": {
   "display_name": "Python 3",
   "language": "python",
   "name": "python3"
  },
  "language_info": {
   "codemirror_mode": {
    "name": "ipython",
    "version": 3
   },
   "file_extension": ".py",
   "mimetype": "text/x-python",
   "name": "python",
   "nbconvert_exporter": "python",
   "pygments_lexer": "ipython3",
   "version": "3.7.3"
  }
 },
 "nbformat": 4,
 "nbformat_minor": 2
}
