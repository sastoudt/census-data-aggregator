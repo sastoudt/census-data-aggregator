{
 "cells": [
  {
   "cell_type": "code",
   "execution_count": 4,
   "metadata": {},
   "outputs": [],
   "source": [
    "test = [\n",
    "            dict( n=6, val= 5, moe=1, newBlockP1=0.8, newBlockP2=0.2),\n",
    "            dict( n=10, val= 15, moe=2, newBlockP1=0.3, newBlockP2=0.7)\n",
    "        ]\n",
    "\n",
    "\n"
   ]
  },
  {
   "cell_type": "code",
   "execution_count": 7,
   "metadata": {},
   "outputs": [
    {
     "data": {
      "text/html": [
       "<div>\n",
       "<style scoped>\n",
       "    .dataframe tbody tr th:only-of-type {\n",
       "        vertical-align: middle;\n",
       "    }\n",
       "\n",
       "    .dataframe tbody tr th {\n",
       "        vertical-align: top;\n",
       "    }\n",
       "\n",
       "    .dataframe thead th {\n",
       "        text-align: right;\n",
       "    }\n",
       "</style>\n",
       "<table border=\"1\" class=\"dataframe\">\n",
       "  <thead>\n",
       "    <tr style=\"text-align: right;\">\n",
       "      <th></th>\n",
       "      <th>moe</th>\n",
       "      <th>n</th>\n",
       "      <th>newBlockP1</th>\n",
       "      <th>newBlockP2</th>\n",
       "      <th>val</th>\n",
       "    </tr>\n",
       "  </thead>\n",
       "  <tbody>\n",
       "    <tr>\n",
       "      <th>0</th>\n",
       "      <td>1</td>\n",
       "      <td>6</td>\n",
       "      <td>0.8</td>\n",
       "      <td>0.2</td>\n",
       "      <td>5</td>\n",
       "    </tr>\n",
       "    <tr>\n",
       "      <th>1</th>\n",
       "      <td>2</td>\n",
       "      <td>10</td>\n",
       "      <td>0.3</td>\n",
       "      <td>0.7</td>\n",
       "      <td>15</td>\n",
       "    </tr>\n",
       "  </tbody>\n",
       "</table>\n",
       "</div>"
      ],
      "text/plain": [
       "   moe   n  newBlockP1  newBlockP2  val\n",
       "0    1   6         0.8         0.2    5\n",
       "1    2  10         0.3         0.7   15"
      ]
     },
     "execution_count": 7,
     "metadata": {},
     "output_type": "execute_result"
    }
   ],
   "source": [
    "## number of people\n",
    "import pandas\n",
    "\n",
    "df= pandas.DataFrame(test)\n",
    "df"
   ]
  },
  {
   "cell_type": "code",
   "execution_count": 16,
   "metadata": {},
   "outputs": [
    {
     "data": {
      "text/html": [
       "<div>\n",
       "<style scoped>\n",
       "    .dataframe tbody tr th:only-of-type {\n",
       "        vertical-align: middle;\n",
       "    }\n",
       "\n",
       "    .dataframe tbody tr th {\n",
       "        vertical-align: top;\n",
       "    }\n",
       "\n",
       "    .dataframe thead th {\n",
       "        text-align: right;\n",
       "    }\n",
       "</style>\n",
       "<table border=\"1\" class=\"dataframe\">\n",
       "  <thead>\n",
       "    <tr style=\"text-align: right;\">\n",
       "      <th></th>\n",
       "      <th>newBlockP1</th>\n",
       "      <th>newBlockP2</th>\n",
       "    </tr>\n",
       "  </thead>\n",
       "  <tbody>\n",
       "    <tr>\n",
       "      <th>0</th>\n",
       "      <td>0.8</td>\n",
       "      <td>0.2</td>\n",
       "    </tr>\n",
       "    <tr>\n",
       "      <th>1</th>\n",
       "      <td>0.3</td>\n",
       "      <td>0.7</td>\n",
       "    </tr>\n",
       "  </tbody>\n",
       "</table>\n",
       "</div>"
      ],
      "text/plain": [
       "   newBlockP1  newBlockP2\n",
       "0         0.8         0.2\n",
       "1         0.3         0.7"
      ]
     },
     "execution_count": 16,
     "metadata": {},
     "output_type": "execute_result"
    }
   ],
   "source": [
    "## number of people\n",
    "\n",
    "## deterministic\n",
    "\n",
    "df[['newBlockP1','newBlockP2']]"
   ]
  },
  {
   "cell_type": "code",
   "execution_count": 28,
   "metadata": {},
   "outputs": [
    {
     "data": {
      "text/plain": [
       "['moe', 'n', 'newBlockP1', 'newBlockP2', 'val']"
      ]
     },
     "execution_count": 28,
     "metadata": {},
     "output_type": "execute_result"
    }
   ],
   "source": [
    "nam=list(df.columns.values)\n",
    "nam"
   ]
  },
  {
   "cell_type": "code",
   "execution_count": 29,
   "metadata": {},
   "outputs": [
    {
     "data": {
      "text/plain": [
       "['newBlockP1', 'newBlockP2']"
      ]
     },
     "execution_count": 29,
     "metadata": {},
     "output_type": "execute_result"
    }
   ],
   "source": [
    "nam.remove(\"moe\")\n",
    "nam.remove('n')\n",
    "nam.remove('val')\n",
    "nam"
   ]
  },
  {
   "cell_type": "code",
   "execution_count": 89,
   "metadata": {},
   "outputs": [
    {
     "name": "stdout",
     "output_type": "stream",
     "text": [
      "   newBlockP1  newBlockP2\n",
      "0         4.8         1.2\n",
      "   newBlockP1  newBlockP2\n",
      "1         3.0         7.0\n"
     ]
    }
   ],
   "source": [
    "\n",
    "for i in range(df.shape[0]):\n",
    "    print(df['n'][i]*df[i:(i+1)][nam])\n",
    "   # how do I store these, then want to sum over columns "
   ]
  },
  {
   "cell_type": "code",
   "execution_count": 92,
   "metadata": {},
   "outputs": [
    {
     "name": "stdout",
     "output_type": "stream",
     "text": [
      "   newBlockP1  newBlockP2\n",
      "0         8.8         2.2\n",
      "   newBlockP1  newBlockP2\n",
      "1         0.0         0.0\n"
     ]
    }
   ],
   "source": [
    "## with moe\n",
    "import numpy\n",
    "for i in range(df.shape[0]):\n",
    "    se = df['n'][i] / 1.645 ## convert moe to se\n",
    "    new_n = round(numpy.random.normal(df['n'][i], se))\n",
    "    ## use moe to introduce randomness into number in bin\n",
    "    new_n = int(new_n) ## clean it up\n",
    "    print(new_n*df[i:(i+1)][nam])\n",
    "\n",
    "   # how do I store these, then want to sum over columns "
   ]
  },
  {
   "cell_type": "code",
   "execution_count": null,
   "metadata": {},
   "outputs": [],
   "source": [
    "## mean\n",
    "\n",
    "for i in range(df.shape[0]):\n",
    "    print(df['n'][i]*df[i:(i+1)][nam])"
   ]
  }
 ],
 "metadata": {
  "kernelspec": {
   "display_name": "Python 3",
   "language": "python",
   "name": "python3"
  },
  "language_info": {
   "codemirror_mode": {
    "name": "ipython",
    "version": 3
   },
   "file_extension": ".py",
   "mimetype": "text/x-python",
   "name": "python",
   "nbconvert_exporter": "python",
   "pygments_lexer": "ipython3",
   "version": "3.7.3"
  }
 },
 "nbformat": 4,
 "nbformat_minor": 2
}
