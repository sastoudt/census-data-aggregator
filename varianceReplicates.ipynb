{
 "cells": [
  {
   "cell_type": "markdown",
   "metadata": {},
   "source": [
    "# Variance Replicates"
   ]
  },
  {
   "cell_type": "code",
   "execution_count": null,
   "metadata": {},
   "outputs": [],
   "source": [
    "import pandas\n",
    "import numpy\n",
    "import math "
   ]
  },
  {
   "cell_type": "code",
   "execution_count": null,
   "metadata": {},
   "outputs": [],
   "source": [
    "df = pandas.read_csv('B19001.csv')\n",
    "df.head()\n",
    "var_rep = df.filter(regex='Var_Rep')[3:len(df.index)]\n",
    "var_rep"
   ]
  },
  {
   "cell_type": "markdown",
   "metadata": {},
   "source": [
    "Sums"
   ]
  },
  {
   "cell_type": "code",
   "execution_count": null,
   "metadata": {},
   "outputs": [],
   "source": [
    "rep_sum = []\n",
    "for col in var_rep.columns:\n",
    "    rep_sum.append(sum(var_rep[col]))\n",
    "\n",
    "est_sum = sum(df['estimate'][3:len(df.index)])"
   ]
  },
  {
   "cell_type": "code",
   "execution_count": null,
   "metadata": {},
   "outputs": [],
   "source": [
    "test = []\n",
    "for i in range(len(rep_sum)):\n",
    "    test.append(rep_sum[i]-est_sum)\n",
    "    test[i]=test[i]**2\n",
    "variance = sum(test)*4/80    \n",
    "moe = 1.645 * math.sqrt(variance)"
   ]
  },
  {
   "cell_type": "markdown",
   "metadata": {},
   "source": [
    "Median"
   ]
  },
  {
   "cell_type": "code",
   "execution_count": null,
   "metadata": {},
   "outputs": [],
   "source": [
    "range_list = [\n",
    "            dict(min=2499, max=9999, n=7942251, moe=17662),\n",
    "            dict(min=10000, max=14999, n=5768114, moe=16409),\n",
    "            dict(min=15000, max=19999, n=5727180, moe=16801),\n",
    "            dict(min=20000, max=24999, n=5910725, moe=17864),\n",
    "            dict(min=25000, max=29999, n=5619002, moe=16113),\n",
    "            dict(min=30000, max=34999, n=5711286, moe=15891),\n",
    "            dict(min=35000, max=39999, n=5332778, moe=16488),\n",
    "            dict(min=40000, max=44999, n=5354520, moe=15415),\n",
    "            dict(min=45000, max=49999, n=4725195, moe=16890),\n",
    "            dict(min=50000, max=59999, n=9181800, moe=20965),\n",
    "            dict(min=60000, max=74999, n=11818514, moe=30723),\n",
    "            dict(min=75000, max=99999, n=14636046, moe=49159),\n",
    "            dict(min=100000, max=124999, n=10273788, moe=47842),\n",
    "            dict(min=125000, max=149999, n=6428069, moe=37952),\n",
    "            dict(min=150000, max=199999, n=6931136, moe=37236),\n",
    "            dict(min=200000, max=250001, n=7465517, moe=42206)\n",
    "        ]\n",
    "var_rep.reset_index(drop=True,inplace=True)\n",
    "\n",
    "med_est=approximate_median(range_list, design_factor=1.5)\n",
    "\n",
    "med_rep = []\n",
    "for col in var_rep.columns:\n",
    "    for i in range(len(range_list)):\n",
    "        range_list[i]['n']=var_rep[col][i]\n",
    "    med_rep.append(approximate_median(range_list, design_factor=1.5)[0])\n",
    "\n",
    "val = 0\n",
    "for i in range(len(med_rep)):\n",
    "    val = val + (med_rep[i]-med_est[0])**2\n",
    "\n",
    "moe = 1.645 * math.sqrt(val*4/80)\n"
   ]
  }
 ],
 "metadata": {
  "kernelspec": {
   "display_name": "Python 3",
   "language": "python",
   "name": "python3"
  },
  "language_info": {
   "codemirror_mode": {
    "name": "ipython",
    "version": 3
   },
   "file_extension": ".py",
   "mimetype": "text/x-python",
   "name": "python",
   "nbconvert_exporter": "python",
   "pygments_lexer": "ipython3",
   "version": "3.7.3"
  }
 },
 "nbformat": 4,
 "nbformat_minor": 2
}
