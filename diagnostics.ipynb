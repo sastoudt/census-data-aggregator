{
 "cells": [
  {
   "cell_type": "code",
   "execution_count": 8,
   "metadata": {},
   "outputs": [],
   "source": [
    "## standardized measure of uncertainty\n",
    "## share of the estimate that the error represents\n",
    "## higher number means more uncertainty\n",
    "\n",
    "def coefficient_of_variation(estimate, moe):\n",
    "    \"\"\"\n",
    "    Estimate a coefficient of variation to help interpret the uncertainty of an estimate.\n",
    "    This diagnostic comes from `Splelman and Folch '15'`_ and references `American Community Survey materials`_.\n",
    "    Args:\n",
    "        estimate (float): \n",
    "        design_factor (float): \n",
    "    Returns:\n",
    "        A two-item tuple with the median followed by the approximated margin of error.\n",
    "        (42211.096153846156, 10153.200960954948)\n",
    "    Examples:\n",
    "        Estimating the median for a range of median household incomes.\n",
    "        >>> coefficient_of_variation(42211.096153846156, 10153.200960954948)\n",
    "        0.14622123567658166\n",
    "    ... _Splelman and Folch '15':\n",
    "        https://journals.plos.org/plosone/article?id=10.1371/journal.pone.0115626#abstract0\n",
    "    ... _American Community Survey materials:\n",
    "        http://www.loc.gov/catdir/toc/ecip0720/2007024090.html\n",
    "    \"\"\"\n",
    "    numerator = moe / 1.645\n",
    "    cv = numerator / estimate\n",
    "    #if cv > 0.12:\n",
    "        #warnings.warn(\"\", CVWarning) ## “reasonable standard of precision for an estimate” exceeded\n",
    "\n",
    "    return cv\n",
    "    "
   ]
  },
  {
   "cell_type": "code",
   "execution_count": 9,
   "metadata": {},
   "outputs": [
    {
     "data": {
      "text/plain": [
       "0.14622123567658166"
      ]
     },
     "execution_count": 9,
     "metadata": {},
     "output_type": "execute_result"
    }
   ],
   "source": [
    "coefficient_of_variation(42211.096153846156, 10153.200960954948)"
   ]
  },
  {
   "cell_type": "code",
   "execution_count": null,
   "metadata": {},
   "outputs": [],
   "source": []
  }
 ],
 "metadata": {
  "kernelspec": {
   "display_name": "Python 3",
   "language": "python",
   "name": "python3"
  },
  "language_info": {
   "codemirror_mode": {
    "name": "ipython",
    "version": 3
   },
   "file_extension": ".py",
   "mimetype": "text/x-python",
   "name": "python",
   "nbconvert_exporter": "python",
   "pygments_lexer": "ipython3",
   "version": "3.7.3"
  }
 },
 "nbformat": 4,
 "nbformat_minor": 2
}
