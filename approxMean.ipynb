{
 "cells": [
  {
   "cell_type": "markdown",
   "metadata": {},
   "source": [
    "# Proof of Concept: Approximate Mean"
   ]
  },
  {
   "cell_type": "code",
   "execution_count": 34,
   "metadata": {},
   "outputs": [],
   "source": [
    "range_list = [\n",
    "            dict(min=2499, max=9999, n=7942251, moe=17662),\n",
    "            dict(min=10000, max=14999, n=5768114, moe=16409),\n",
    "            dict(min=15000, max=19999, n=5727180, moe=16801),\n",
    "            dict(min=20000, max=24999, n=5910725, moe=17864),\n",
    "            dict(min=25000, max=29999, n=5619002, moe=16113),\n",
    "            dict(min=30000, max=34999, n=5711286, moe=15891),\n",
    "            dict(min=35000, max=39999, n=5332778, moe=16488),\n",
    "            dict(min=40000, max=44999, n=5354520, moe=15415),\n",
    "            dict(min=45000, max=49999, n=4725195, moe=16890),\n",
    "            dict(min=50000, max=59999, n=9181800, moe=20965),\n",
    "            dict(min=60000, max=74999, n=11818514, moe=30723),\n",
    "            dict(min=75000, max=99999, n=14636046, moe=49159),\n",
    "            dict(min=100000, max=124999, n=10273788, moe=47842),\n",
    "            dict(min=125000, max=149999, n=6428069, moe=37952),\n",
    "            dict(min=150000, max=199999, n=6931136, moe=37236),\n",
    "            dict(min=200000, max=250001, n=7465517, moe=42206)\n",
    "        ]\n"
   ]
  },
  {
   "cell_type": "markdown",
   "metadata": {},
   "source": [
    "Example from table B19001 found [here](https://www2.census.gov/programs-surveys/acs/replicate_estimates/2017/data/5-year/010/)\n",
    "\n",
    "HOUSEHOLD INCOME IN THE PAST 12 MONTHS (IN 2017 INFLATION-ADJUSTED DOLLARS)"
   ]
  },
  {
   "cell_type": "markdown",
   "metadata": {},
   "source": [
    "## Generate Own Replicates"
   ]
  },
  {
   "cell_type": "code",
   "execution_count": null,
   "metadata": {},
   "outputs": [],
   "source": [
    "import numpy\n",
    "\n",
    "range_list.sort(key=lambda x: x['min'])\n",
    "\n",
    "\n",
    "simR = []        \n",
    "for i in range(50): ## simulation\n",
    "    test = []\n",
    "    track_n = []\n",
    "    for range_ in range_list:\n",
    "        se = range_['moe']/1.645 ## convert moe to se\n",
    "        nn = round(numpy.random.normal(range_['n'], se))\n",
    "        ## use moe to introduce randomness into number in bin\n",
    "        nn=int(nn) ## clean it up\n",
    "        test.append(numpy.random.uniform(range_['min'], range_['max'], size=(1, nn )).sum())\n",
    "        ## draw random values within the bin, assume uniform\n",
    "        track_n.append(nn)\n",
    "    simR.append(sum(test)/sum(track_n)) ## get mean in one simulation iteration \n",
    "## why so slow?    "
   ]
  },
  {
   "cell_type": "code",
   "execution_count": null,
   "metadata": {},
   "outputs": [],
   "source": [
    "numpy.mean(simR) ## mean of means\n"
   ]
  },
  {
   "cell_type": "code",
   "execution_count": null,
   "metadata": {},
   "outputs": [],
   "source": [
    "numpy.quantile(simR,0.05) ## uncertainty lower bound 90%\n"
   ]
  },
  {
   "cell_type": "code",
   "execution_count": null,
   "metadata": {},
   "outputs": [],
   "source": [
    "numpy.quantile(simR,0.95) ## Uncertainty upper bound 90%"
   ]
  },
  {
   "cell_type": "code",
   "execution_count": null,
   "metadata": {},
   "outputs": [],
   "source": [
    "se=max(numpy.quantile(simR,0.95) -numpy.mean(simR),numpy.mean(simR)-numpy.quantile(simR,0.05) )\n",
    "se"
   ]
  },
  {
   "cell_type": "code",
   "execution_count": null,
   "metadata": {},
   "outputs": [],
   "source": [
    "moe=1.645*se\n",
    "moe"
   ]
  },
  {
   "cell_type": "markdown",
   "metadata": {},
   "source": [
    "Compare to median:"
   ]
  },
  {
   "cell_type": "code",
   "execution_count": 20,
   "metadata": {},
   "outputs": [],
   "source": [
    "def approximate_median(range_list, design_factor=None, sampling_percentage=None):\n",
    "    \"\"\"\n",
    "    Estimate a median and approximate the margin of error.\n",
    "    Follows the U.S. Census Bureau's `official guidelines`_ for estimation using a design factor.\n",
    "    Useful for generating medians for measures like household income and age when aggregating census geographies.\n",
    "    Args:\n",
    "        range_list (list): A list of dictionaries that divide the full range of data values into continuous categories.\n",
    "            Each dictionary should have three keys:\n",
    "                * min (int): The minimum value of the range\n",
    "                * max (int): The maximum value of the range\n",
    "                * n (int): The number of people, households or other unit in the range\n",
    "            The minimum value in the first range and the maximum value in the last range can be tailored to the dataset\n",
    "            by using the \"jam values\" provided in the `American Community Survey's technical documentation`_.\n",
    "        design_factor (float, optional): A statistical input used to tailor the standard error to the\n",
    "            variance of the dataset. The Census Bureau publishes design factors as part of its PUMS Accuracy statement.\n",
    "            Find the value for the dataset you are estimating by referring to `the bureau's reference material`_.\n",
    "            If you do not provide this input, a margin of error will not be returned.\n",
    "        sampling_percentage (float, optional): A statistical input used to correct variance for finite population.\n",
    "            For example, the 1-year ACS is designed to be a 2.5% sample of the population, and the 1-year PUMS is\n",
    "            designed to be a 1% sample of the population. You can multiply these percentages by 5 for the 5-year versions.\n",
    "    Returns:\n",
    "        A two-item tuple with the median followed by the approximated margin of error.\n",
    "        (42211.096153846156, 10153.200960954948)\n",
    "    Examples:\n",
    "        Estimating the median for a range of median household incomes.\n",
    "        >>> income = [\n",
    "            dict(min=2499, max=9999, n=186),\n",
    "            dict(min=10000, max=14999, n=78),\n",
    "            dict(min=15000, max=19999, n=98),\n",
    "            dict(min=20000, max=24999, n=287),\n",
    "            dict(min=25000, max=29999, n=142),\n",
    "            dict(min=30000, max=34999, n=90),\n",
    "            dict(min=35000, max=39999, n=107),\n",
    "            dict(min=40000, max=44999, n=104),\n",
    "            dict(min=45000, max=49999, n=178),\n",
    "            dict(min=50000, max=59999, n=106),\n",
    "            dict(min=60000, max=74999, n=177),\n",
    "            dict(min=75000, max=99999, n=262),\n",
    "            dict(min=100000, max=124999, n=77),\n",
    "            dict(min=125000, max=149999, n=100),\n",
    "            dict(min=150000, max=199999, n=58),\n",
    "            dict(min=200000, max=250001, n=18)\n",
    "        ]\n",
    "        >>> approximate_median(income, design_factor=1.5, sampling_percentage=1)\n",
    "        (42211.096153846156, 10153.200960954948)\n",
    "    ... _official guidelines:\n",
    "        https://www.documentcloud.org/documents/6165603-2013-2017AccuracyPUMS.html#document/p18\n",
    "    ... _American Community Survey's technical documentation\n",
    "        https://www.documentcloud.org/documents/6165752-2017-SummaryFile-Tech-Doc.html#document/p20/a508561\n",
    "    ... _the bureau's reference material:\n",
    "        https://www.census.gov/programs-surveys/acs/technical-documentation/pums/documentation.html\n",
    "    \"\"\"\n",
    "    # Sort the list\n",
    "    range_list.sort(key=lambda x: x['min'])\n",
    "\n",
    "    # For each range calculate its min and max value along the universe's scale\n",
    "    cumulative_n = 0\n",
    "    for range_ in range_list:\n",
    "        range_['n_min'] = cumulative_n\n",
    "        cumulative_n += range_['n']\n",
    "        range_['n_max'] = cumulative_n\n",
    "\n",
    "    # What is the total number of observations in the universe?\n",
    "    n = sum([d['n'] for d in range_list])\n",
    "\n",
    "    # What is the estimated midpoint of the n?\n",
    "    n_midpoint = n / 2.0\n",
    "\n",
    "    # Now use those to determine which group contains the midpoint.\n",
    "    n_midpoint_range = next(d for d in range_list if n_midpoint >= d['n_min'] and n_midpoint <= d['n_max'])\n",
    "\n",
    "    # How many households in the midrange are needed to reach the midpoint?\n",
    "    n_midrange_gap = n_midpoint - n_midpoint_range['n_min']\n",
    "\n",
    "    # What is the proportion of the group that would be needed to get the midpoint?\n",
    "    n_midrange_gap_percent = n_midrange_gap / n_midpoint_range['n']\n",
    "\n",
    "    # Apply this proportion to the width of the midrange\n",
    "    n_midrange_gap_adjusted = (n_midpoint_range['max'] - n_midpoint_range['min']) * n_midrange_gap_percent\n",
    "\n",
    "    # Estimate the median\n",
    "    estimated_median = n_midpoint_range['min'] + n_midrange_gap_adjusted\n",
    "\n",
    "    # If there's no design factor, we can't calculate a margin of error\n",
    "    if not design_factor:\n",
    "        # Let's throw a warning, but still return the median\n",
    "        warnings.warn(\"\", DesignFactorWarning)\n",
    "        return estimated_median, None\n",
    "\n",
    "    # If there's no sampling percentage, we can't calculate a margin of error\n",
    "    if not sampling_percentage:\n",
    "        # Let's throw a warning, but still return the median\n",
    "        warnings.warn(\"\", SamplingPercentageWarning)\n",
    "        return estimated_median, None\n",
    "\n",
    "    # Get the standard error for this dataset\n",
    "    standard_error = (design_factor * math.sqrt(((100 - sampling_percentage) / (n * sampling_percentage)) * (50**2))) / 100\n",
    "\n",
    "    # Use the standard error to calculate the p values\n",
    "    p_lower = (.5 - standard_error)\n",
    "    p_upper = (.5 + standard_error)\n",
    "\n",
    "    # Estimate the p_lower and p_upper n values\n",
    "    p_lower_n = n * p_lower\n",
    "    p_upper_n = n * p_upper\n",
    "\n",
    "    # Find the ranges the p values fall within\n",
    "    try:\n",
    "        p_lower_range_i, p_lower_range = next(\n",
    "            (i, d) for i, d in enumerate(range_list)\n",
    "            if p_lower_n >= d['n_min'] and p_lower_n <= d['n_max']\n",
    "        )\n",
    "    except StopIteration:\n",
    "        raise DataError(f\"The n's lower p value {p_lower_n} does not fall within a data range.\")\n",
    "\n",
    "    try:\n",
    "        p_upper_range_i, p_upper_range = next(\n",
    "            (i, d) for i, d in enumerate(range_list)\n",
    "            if p_upper_n >= d['n_min'] and p_upper_n <= d['n_max']\n",
    "        )\n",
    "    except StopIteration:\n",
    "        raise DataError(f\"The n's upper p value {p_upper_n} does not fall within a data range.\")\n",
    "\n",
    "    # Use these values to estimate the lower bound of the confidence interval\n",
    "    p_lower_a1 = p_lower_range['min']\n",
    "    try:\n",
    "        p_lower_a2 = range_list[p_lower_range_i + 1]['min']\n",
    "    except IndexError:\n",
    "        p_lower_a2 = p_lower_range['max']\n",
    "    p_lower_c1 = p_lower_range['n_min'] / n\n",
    "    try:\n",
    "        p_lower_c2 = range_list[p_lower_range_i + 1]['n_min'] / n\n",
    "    except IndexError:\n",
    "        p_lower_c2 = p_lower_range['n_max'] / n\n",
    "    lower_bound = ((p_lower - p_lower_c1) / (p_lower_c2 - p_lower_c1)) * (p_lower_a2 - p_lower_a1) + p_lower_a1\n",
    "\n",
    "    # Same for the upper bound\n",
    "    p_upper_a1 = p_upper_range['min']\n",
    "    try:\n",
    "        p_upper_a2 = range_list[p_upper_range_i + 1]['min']\n",
    "    except IndexError:\n",
    "        p_upper_a2 = p_upper_range['max']\n",
    "    p_upper_c1 = p_upper_range['n_min'] / n\n",
    "    try:\n",
    "        p_upper_c2 = range_list[p_upper_range_i + 1]['n_min'] / n\n",
    "    except IndexError:\n",
    "        p_upper_c2 = p_upper_range['n_max'] / n\n",
    "    upper_bound = ((p_upper - p_upper_c1) / (p_upper_c2 - p_upper_c1)) * (p_upper_a2 - p_upper_a1) + p_upper_a1\n",
    "\n",
    "    # Calculate the standard error of the median\n",
    "    standard_error_median = 0.5 * (upper_bound - lower_bound)\n",
    "\n",
    "    # Calculate the margin of error at the 90% confidence level\n",
    "    margin_of_error = 1.645 * standard_error_median\n",
    "\n",
    "    # Return the result\n",
    "    return estimated_median, margin_of_error\n"
   ]
  },
  {
   "cell_type": "code",
   "execution_count": null,
   "metadata": {},
   "outputs": [],
   "source": [
    "import math\n",
    "approximate_median(range_list, design_factor=1.5, sampling_percentage=1)"
   ]
  },
  {
   "cell_type": "markdown",
   "metadata": {},
   "source": [
    "Make replicable with seed"
   ]
  },
  {
   "cell_type": "code",
   "execution_count": 36,
   "metadata": {},
   "outputs": [],
   "source": [
    "def approximate_mean(range_list, number_replicates=50, rng=None):\n",
    "    \"\"\"\n",
    "    Estimate a mean and approximate the margin of error.\n",
    "\n",
    "    \n",
    "\n",
    "    Args:\n",
    "        range_list (list): A list of dictionaries that divide the full range of data values into continuous categories.\n",
    "            Each dictionary should have three keys:\n",
    "                * min (int): The minimum value of the range\n",
    "                * max (int): The maximum value of the range\n",
    "                * n (int): The number of people, households or other unit in the range\n",
    "            The minimum value in the first range and the maximum value in the last range can be tailored to the dataset\n",
    "            by using the \"jam values\" provided in the `American Community Survey's technical documentation`_.\n",
    "        number_replicates (int): number of replicates for simulation, used to estimate margin of error\n",
    "        rng (int, optional): a seed, used to ensure replicability due to randomness in simulation\n",
    "\n",
    "    Returns:\n",
    "        A two-item tuple with the mean followed by the approximated margin of error.\n",
    "\n",
    "        (42211.096153846156, 10153.200960954948)\n",
    "\n",
    "    Examples:\n",
    "        Estimating the median for a range of median household incomes.\n",
    "\n",
    "        >>> income = [\n",
    "            dict(min=2499, max=9999, n=186),\n",
    "            dict(min=10000, max=14999, n=78),\n",
    "            dict(min=15000, max=19999, n=98),\n",
    "            dict(min=20000, max=24999, n=287),\n",
    "            dict(min=25000, max=29999, n=142),\n",
    "            dict(min=30000, max=34999, n=90),\n",
    "            dict(min=35000, max=39999, n=107),\n",
    "            dict(min=40000, max=44999, n=104),\n",
    "            dict(min=45000, max=49999, n=178),\n",
    "            dict(min=50000, max=59999, n=106),\n",
    "            dict(min=60000, max=74999, n=177),\n",
    "            dict(min=75000, max=99999, n=262),\n",
    "            dict(min=100000, max=124999, n=77),\n",
    "            dict(min=125000, max=149999, n=100),\n",
    "            dict(min=150000, max=199999, n=58),\n",
    "            dict(min=200000, max=250001, n=18)\n",
    "        ]\n",
    "        >>> approximate_mean(income)\n",
    "        (42211.096153846156, 10153.200960954948)\n",
    "    \"\"\"\n",
    "    \n",
    "    if rng is not None:\n",
    "        numpy.random.seed(rng)\n",
    "            \n",
    "    # Sort the list\n",
    "    range_list.sort(key=lambda x: x['min'])\n",
    "\n",
    "    simR = []        \n",
    "    for i in range(number_replicates): ## simulation\n",
    "        test = []\n",
    "        track_n = []\n",
    "        for range_ in range_list:\n",
    "            se = range_['moe'] / 1.645 ## convert moe to se\n",
    "            nn = round(numpy.random.normal(range_['n'], se))\n",
    "            ## use moe to introduce randomness into number in bin\n",
    "            nn = int(nn) ## clean it up\n",
    "            test.append(numpy.random.uniform(range_['min'], range_['max'], size=(1, nn)).sum())\n",
    "            ## draw random values within the bin, assume uniform\n",
    "            track_n.append(nn)\n",
    "        simR.append(sum(test) / sum(track_n))\n",
    "    \n",
    "    estimated_mean = numpy.mean(simR)\n",
    "    se = max(numpy.quantile(simR, 0.95) - numpy.mean(simR), numpy.mean(simR) - numpy.quantile(simR, 0.05))\n",
    "    margin_of_error = 1.645 * se\n",
    "    \n",
    "    # Return the result\n",
    "    return estimated_mean, margin_of_error"
   ]
  },
  {
   "cell_type": "code",
   "execution_count": 37,
   "metadata": {},
   "outputs": [],
   "source": [
    "estimate, moe = approximate_mean(range_list, rng=711355) ## used for testing purposes\n"
   ]
  },
  {
   "cell_type": "code",
   "execution_count": null,
   "metadata": {},
   "outputs": [],
   "source": [
    "estimate"
   ]
  },
  {
   "cell_type": "markdown",
   "metadata": {},
   "source": [
    "moe"
   ]
  },
  {
   "cell_type": "code",
   "execution_count": null,
   "metadata": {},
   "outputs": [],
   "source": [
    "estimate, moe = approximate_mean(range_list)"
   ]
  },
  {
   "cell_type": "code",
   "execution_count": null,
   "metadata": {},
   "outputs": [],
   "source": [
    "estimate"
   ]
  },
  {
   "cell_type": "code",
   "execution_count": null,
   "metadata": {},
   "outputs": [],
   "source": [
    "moe"
   ]
  }
 ],
 "metadata": {
  "kernelspec": {
   "display_name": "Python 3",
   "language": "python",
   "name": "python3"
  },
  "language_info": {
   "codemirror_mode": {
    "name": "ipython",
    "version": 3
   },
   "file_extension": ".py",
   "mimetype": "text/x-python",
   "name": "python",
   "nbconvert_exporter": "python",
   "pygments_lexer": "ipython3",
   "version": "3.7.3"
  }
 },
 "nbformat": 4,
 "nbformat_minor": 2
}
